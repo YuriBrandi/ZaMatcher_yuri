{
 "cells": [
  {
   "cell_type": "code",
   "execution_count": 6,
   "id": "390d0355-557e-4687-82c2-e3ce9097d834",
   "metadata": {},
   "outputs": [
    {
     "name": "stdout",
     "output_type": "stream",
     "text": [
      "Gender distribution: \n",
      "F    34.04\n",
      "M    33.11\n",
      "N    32.85\n",
      "Name: gender, dtype: float64\n",
      "Gender distribution: \n",
      "A    20.22\n",
      "F    20.19\n",
      "B    19.93\n",
      "M    19.88\n",
      "N    19.78\n",
      "Name: searching_gender, dtype: float64\n"
     ]
    }
   ],
   "source": [
    "import pandas as pd\n",
    "import random\n",
    "from faker import Faker\n",
    "\n",
    "# CONSTANTS SECTION\n",
    "# M: Male, F: Female, B: Bisexual, N : Non Binary, A: All\n",
    "GENDER_MALE, GENDER_FEMALE, GENDER_NON_BINARY, = \"M\", \"F\", \"N\"\n",
    "SEARCHING_GENDER = [\"M\", \"F\", \"B\", \"N\", \"A\"]\n",
    "MIN_AGE, MAX_AGE = 18, 50\n",
    "INTEREST_MIN_SIZE, INTEREST_MAX_SIZE = 3, 6\n",
    "DS_SIZE = 10000\n",
    "\n",
    "faker = Faker()\n",
    "\n",
    "# load datasets \n",
    "# taken from https://simplemaps.com/data/us-cities\n",
    "cities_df = pd.read_csv(\"./us_cities.csv\")\n",
    "interests = pd.read_csv(\"./interests.csv\")['interest'].tolist()\n",
    "\n",
    "ds_list = []\n",
    "\n",
    "for i in range(DS_SIZE):\n",
    "    row = {}\n",
    "\n",
    "    choice = random.randrange(1, 4)\n",
    "\n",
    "    if choice == 1:\n",
    "        row[\"name\"] = faker.first_name_male()\n",
    "        row[\"surname\"] = faker.last_name_male()\n",
    "        row[\"gender\"] = GENDER_MALE\n",
    "    elif choice == 2:\n",
    "        row[\"name\"] = faker.first_name_female()\n",
    "        row[\"surname\"] = faker.last_name_female()\n",
    "        row[\"gender\"] = GENDER_FEMALE\n",
    "    else:\n",
    "        row[\"name\"] = faker.first_name_nonbinary()\n",
    "        row[\"surname\"] = faker.last_name_nonbinary()\n",
    "        row[\"gender\"] = GENDER_NON_BINARY\n",
    "\n",
    "    row[\"searching_gender\"] = random.choice(SEARCHING_GENDER)\n",
    "    row[\"age\"] = random.randrange(MIN_AGE, MAX_AGE)\n",
    "    row_interests_size = random.randrange(INTEREST_MIN_SIZE, INTEREST_MAX_SIZE)\n",
    "    row['interests'] = ', '.join(random.sample(interests, row_interests_size))\n",
    "    cities_random_idx = random.randrange(cities_df.index.start, cities_df.index.stop)\n",
    "    row['latitude'] = cities_df['lat'][cities_random_idx]\n",
    "    row['longitude'] = cities_df['lng'][cities_random_idx]\n",
    "\n",
    "    ds_list.append(row)\n",
    "\n",
    "random.shuffle(ds_list)\n",
    "df = pd.DataFrame(ds_list)\n",
    "\n",
    "print(f\"Gender distribution: \\n{df['gender'].value_counts(normalize=True) * 100}\")\n",
    "print(f\"Gender distribution: \\n{df['searching_gender'].value_counts(normalize=True) * 100}\")\n",
    "\n",
    "df.to_csv('dataset.csv', index=False, header=True)"
   ]
  }
 ],
 "metadata": {
  "kernelspec": {
   "display_name": "Python 3",
   "language": "python",
   "name": "python3"
  },
  "language_info": {
   "codemirror_mode": {
    "name": "ipython",
    "version": 3
   },
   "file_extension": ".py",
   "mimetype": "text/x-python",
   "name": "python",
   "nbconvert_exporter": "python",
   "pygments_lexer": "ipython3",
   "version": "3.10.9 (main, Dec 15 2022, 17:11:09) [Clang 14.0.0 (clang-1400.0.29.202)]"
  },
  "vscode": {
   "interpreter": {
    "hash": "b0fa6594d8f4cbf19f97940f81e996739fb7646882a419484c72d19e05852a7e"
   }
  }
 },
 "nbformat": 4,
 "nbformat_minor": 5
}
