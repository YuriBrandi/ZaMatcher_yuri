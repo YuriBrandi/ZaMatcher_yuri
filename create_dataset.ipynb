{
 "cells": [
  {
   "cell_type": "code",
   "execution_count": 1,
   "id": "390d0355-557e-4687-82c2-e3ce9097d834",
   "metadata": {},
   "outputs": [
    {
     "name": "stdout",
     "output_type": "stream",
     "text": [
      "Sex distribution: \n",
      "M    50.0\n",
      "F    50.0\n",
      "Name: sex, dtype: float64\n",
      "Searching sex distribution: \n",
      "B    33.715\n",
      "M    33.180\n",
      "F    33.105\n",
      "Name: searching_sex, dtype: float64\n"
     ]
    }
   ],
   "source": [
    "import pandas as pd\n",
    "import random\n",
    "from faker import Faker\n",
    "\n",
    "faker = Faker()\n",
    "\n",
    "# load datasets \n",
    "# taken from https://simplemaps.com/data/us-cities\n",
    "cities_df = pd.read_csv(\"./us_cities.csv\")\n",
    "interests = pd.read_csv(\"./interests.csv\")['interest'].tolist()\n",
    "\n",
    "# M: Male, F: Female, B: Bisexual\n",
    "sex = [\"M\", \"F\"] \n",
    "sexual_orientation = [\"M\", \"F\", \"B\"] \n",
    "ages = {\"min_age\": 18, \"max_age\": 40}\n",
    "interests_size = {\"min\": 1, \"max\": 5}\n",
    "\n",
    "ds_size = 20_000\n",
    "ds_list = []\n",
    "\n",
    "for i in range(ds_size):\n",
    "    row = {} \n",
    "    \n",
    "    if i % 2 == 0: \n",
    "        row[\"name\"] = faker.first_name_male()\n",
    "        row[\"surname\"] = faker.last_name_male()\n",
    "        row[\"sex\"] = \"M\"\n",
    "    else: \n",
    "        row[\"name\"] = faker.first_name_female()\n",
    "        row[\"surname\"] = faker.last_name_female()\n",
    "        row[\"sex\"] = \"F\"\n",
    "\n",
    "    row[\"searching_sex\"] = sexual_orientation[random.randrange(0, len(sexual_orientation))]\n",
    "    row[\"age\"] = random.randrange(ages[\"min_age\"], ages[\"max_age\"])\n",
    "    row_interests_size = random.randrange(interests_size[\"min\"], interests_size[\"max\"])\n",
    "    row_interests_str = \"\"\n",
    "                                              \n",
    "    for j in range(row_interests_size + 1):\n",
    "        random_interest = interests[random.randrange(0, len(interests))]\n",
    "        if random_interest not in row_interests_str:\n",
    "            row_interests_str += random_interest\n",
    "            if j < row_interests_size:\n",
    "                row_interests_str += \", \"\n",
    "    \n",
    "    row['interests'] = row_interests_str \n",
    "    cities_random_idx = random.randrange(cities_df.index.start, cities_df.index.stop) \n",
    "    row['latitude'] = cities_df['lat'][cities_random_idx]\n",
    "    row['longitude'] = cities_df['lng'][cities_random_idx]\n",
    "    \n",
    "    ds_list.append(row.copy())\n",
    "\n",
    "random.shuffle(ds_list)    \n",
    "df = pd.DataFrame(ds_list)\n",
    "\n",
    "print(f\"Sex distribution: \\n{df['sex'].value_counts(normalize=True) * 100}\")\n",
    "print(f\"Searching sex distribution: \\n{df['searching_sex'].value_counts(normalize=True) * 100}\") \n",
    "\n",
    "df.to_csv('dataset.csv', index = False, header = True)"
   ]
  },
  {
   "cell_type": "code",
   "execution_count": null,
   "id": "a00bc4dc-2665-431c-876c-86ab540561a2",
   "metadata": {},
   "outputs": [],
   "source": []
  }
 ],
 "metadata": {
  "kernelspec": {
   "display_name": "Python 3",
   "language": "python",
   "name": "python3"
  },
  "language_info": {
   "codemirror_mode": {
    "name": "ipython",
    "version": 3
   },
   "file_extension": ".py",
   "mimetype": "text/x-python",
   "name": "python",
   "nbconvert_exporter": "python",
   "pygments_lexer": "ipython3",
   "version": "3.11.0"
  }
 },
 "nbformat": 4,
 "nbformat_minor": 5
}
